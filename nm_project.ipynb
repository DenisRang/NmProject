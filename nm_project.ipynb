{
  "nbformat": 4,
  "nbformat_minor": 0,
  "metadata": {
    "colab": {
      "name": "nm-project.ipynb",
      "provenance": [],
      "collapsed_sections": [],
      "machine_shape": "hm"
    },
    "kernelspec": {
      "name": "python3",
      "display_name": "Python 3"
    },
    "language_info": {
      "codemirror_mode": {
        "name": "ipython",
        "version": 3
      },
      "file_extension": ".py",
      "mimetype": "text/x-python",
      "name": "python",
      "nbconvert_exporter": "python",
      "pygments_lexer": "ipython3",
      "version": "3.7.5"
    },
    "accelerator": "GPU"
  },
  "cells": [
    {
      "cell_type": "code",
      "metadata": {
        "id": "t2-dyEARGMX_",
        "colab_type": "code",
        "colab": {}
      },
      "source": [
        "import numpy as np\n",
        "import matplotlib.pyplot as plt\n",
        "from scipy.sparse import csr_matrix, lil_matrix, identity\n",
        "import cv2\n",
        "from IPython.display import clear_output\n",
        "import time\n",
        "from tqdm import tqdm"
      ],
      "execution_count": 0,
      "outputs": []
    },
    {
      "cell_type": "code",
      "metadata": {
        "colab_type": "code",
        "id": "XJksAs-CCf0E",
        "colab": {}
      },
      "source": [
        "def box_house(posx, posy, x, y):\n",
        "    return (posx < x < posx + 18 and posy < y < posy + 18)\n",
        "\n",
        "\n",
        "def L_house(posx, posy, x, y):\n",
        "    if posx < x and x < posx + 18 and posy < y and y < posy + 78:\n",
        "        return True\n",
        "\n",
        "    posx = posx + 12\n",
        "\n",
        "    return (posx < x and x < posx + 12 and posy < y and y < posy + 18)\n",
        "\n",
        "\n",
        "def L_flipped_house(posx, posy, x, y):\n",
        "    if posx < x and x < posx + 18 and posy < y and y < posy + 78:\n",
        "        return True\n",
        "\n",
        "    posx = posx - 12\n",
        "    posy = posy + 60\n",
        "\n",
        "    return (posx < x and x < posx + 13 and posy < y and y < posy + 18)\n",
        "\n",
        "\n",
        "def check_boxes(x, y):\n",
        "    boxes = [(69, 111), (69, 264),\n",
        "             (138, 12), (138, 165),\n",
        "             (192, 111), (192, 264),\n",
        "             (261, 12), (261, 165)]\n",
        "    for box in boxes:\n",
        "        if box_house(box[0], box[1], x, y):\n",
        "            return True\n",
        "    return False\n",
        "\n",
        "\n",
        "def check_L(x, y):\n",
        "    L_houses = [(69, 12), (69, 165),\n",
        "                (192, 12), (192, 165)]\n",
        "    for house in L_houses:\n",
        "        if L_house(house[0], house[1], x, y):\n",
        "            return True\n",
        "    return False\n",
        "\n",
        "\n",
        "def check_L_flipped(x, y):\n",
        "    L_flipped_houses = [(138, 51), (138, 204),\n",
        "                        (261, 51), (261, 204)]\n",
        "    for house in L_flipped_houses:\n",
        "        if L_flipped_house(house[0], house[1], x, y):\n",
        "            return True\n",
        "    return False\n",
        "\n",
        "\n",
        "def check_houses(x, y):\n",
        "    return check_boxes(x, y) or check_L(x, y) or check_L_flipped(x, y)\n",
        "\n",
        "\n",
        "def check_edge_cond(x, y, n):\n",
        "    x = (x / n) * n\n",
        "    y = (y / n) * n\n",
        "    return check_houses(x, y) or (x > n - 1 or y > n - 1 or y == 0 or x < 0)\n",
        "\n",
        "\n",
        "def crossSchema(eps=1e-6, history=True):\n",
        "    n = 300\n",
        "    k = 0.5\n",
        "    lambda1 = 1.0\n",
        "    lambda2 = 0.0\n",
        "    steps = 100000\n",
        "\n",
        "    N = n ** 2\n",
        "    h = 1 / n\n",
        "    tau = h ** 2 / (4 * k)\n",
        "\n",
        "    x = np.zeros((N, 1))\n",
        "    for i in range(n):\n",
        "        x[i:n, 0] = 1\n",
        "\n",
        "    A = lil_matrix((N, N))\n",
        "    b = np.zeros(N)\n",
        "\n",
        "    dx = [1, -1, 0, 0]\n",
        "    dy = [0, 0, 1, -1]\n",
        "    u0coeff = 1 - 4 * (tau * k) / (h ** 2)\n",
        "    coeffs = [tau * (k / (h ** 2) - lambda1 / (2 * h)),\n",
        "              tau * (k / (h ** 2) + lambda1 / (2 * h)),\n",
        "              tau * (k / (h ** 2) - lambda2 / (2 * h)),\n",
        "              tau * (k / (h ** 2) + lambda2 / (2 * h))]\n",
        "\n",
        "    for r in range(n):\n",
        "        for c in range(n):\n",
        "            ind = r * n + c\n",
        "            A[ind, ind] = u0coeff\n",
        "\n",
        "            for j in range(0, 4):\n",
        "                x1 = c + dx[j]\n",
        "                y1 = r + dy[j]\n",
        "                coeff = coeffs[j]\n",
        "\n",
        "                if x1 == 0:\n",
        "                    b[ind] -= coeff\n",
        "                elif check_edge_cond(x1, y1, n):\n",
        "                    A[ind, ind] += coeff\n",
        "                else:\n",
        "                    A[ind, y1 * n + x1] += coeff\n",
        "\n",
        "    A = csr_matrix(A)\n",
        "    b = b.reshape(N, -1)\n",
        "    error = 1\n",
        "    i = 0\n",
        "    with tqdm(total=steps) as pbar:\n",
        "        for i in range(steps):\n",
        "            x_new = A * x + b\n",
        "            error = np.max(np.abs(x_new - x))\n",
        "            if error < eps:\n",
        "                break\n",
        "            x = x_new\n",
        "            i += 1\n",
        "            pbar.update(1)\n",
        "\n",
        "    return x.reshape((300, 300)), error\n"
      ],
      "execution_count": 0,
      "outputs": []
    },
    {
      "cell_type": "code",
      "metadata": {
        "colab_type": "code",
        "id": "gJ_8n26ziGiL",
        "outputId": "25268890-ed7b-40c2-a118-5525b4f51aa8",
        "scrolled": false,
        "colab": {
          "base_uri": "https://localhost:8080/",
          "height": 299
        }
      },
      "source": [
        "start = time.time()\n",
        "x_res, error = crossSchema()\n",
        "end = time.time()\n",
        "print(f'Final error: {error}, Duration: {end - start}s')\n",
        "plt.imshow(1 - x_res)\n",
        "plt.gca().invert_yaxis()\n",
        "plt.show()"
      ],
      "execution_count": 7,
      "outputs": [
        {
          "output_type": "stream",
          "text": [
            "100%|██████████| 100000/100000 [01:29<00:00, 1122.90it/s]\n"
          ],
          "name": "stderr"
        },
        {
          "output_type": "stream",
          "text": [
            "Final error: 5.3631953591537496e-06, Duration: 93.20338559150696s\n"
          ],
          "name": "stdout"
        },
        {
          "output_type": "display_data",
          "data": {
            "image/png": "[encoded data removed]",
            "text/plain": [
              "<Figure size 432x288 with 1 Axes>"
            ]
          },
          "metadata": {
            "tags": []
          }
        }
      ]
    },
    {
      "cell_type": "code",
      "metadata": {
        "id": "a6nR30dNGUIn",
        "colab_type": "code",
        "colab": {}
      },
      "source": [
        ""
      ],
      "execution_count": 0,
      "outputs": []
    }
  ]
}